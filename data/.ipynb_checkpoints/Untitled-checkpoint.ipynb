{
 "cells": [
  {
   "cell_type": "code",
   "execution_count": 14,
   "metadata": {},
   "outputs": [],
   "source": [
    "import os.path\n",
    "from PIL import Image\n",
    "import numpy as np\n",
    "import torch\n",
    "import imageio as io\n",
    "import random\n",
    "from glob import glob"
   ]
  },
  {
   "cell_type": "code",
   "execution_count": 15,
   "metadata": {},
   "outputs": [],
   "source": [
    "dataroot_valid = '/media/lab407/4tb/ETRI-denoising_2'"
   ]
  },
  {
   "cell_type": "code",
   "execution_count": 16,
   "metadata": {},
   "outputs": [],
   "source": [
    "path_tif_high_dose = sorted(glob(os.path.join(dataroot_valid, 'HD_TE')))\n",
    "path_tif_low_dose = sorted(glob(os.path.join(dataroot_valid, 'LD_TE')))\n",
    "path_high_dose_train = []\n",
    "path_low_dose_train = []"
   ]
  },
  {
   "cell_type": "code",
   "execution_count": 17,
   "metadata": {},
   "outputs": [
    {
     "name": "stdout",
     "output_type": "stream",
     "text": [
      "['/media/lab407/4tb/ETRI-denoising_2/LD_TE/LD_TE_ADCT_2.png', '/media/lab407/4tb/ETRI-denoising_2/LD_TE/LD_TE_SKBR_2.png', '/media/lab407/4tb/ETRI-denoising_2/LD_TE/LD_TE_MECT_2.png', '/media/lab407/4tb/ETRI-denoising_2/LD_TE/LD_TE_MECT_1.png', '/media/lab407/4tb/ETRI-denoising_2/LD_TE/LD_TE_MECT_4.png', '/media/lab407/4tb/ETRI-denoising_2/LD_TE/LD_TE_SKER_2.png', '/media/lab407/4tb/ETRI-denoising_2/LD_TE/LD_TE_ADCT_1.png', '/media/lab407/4tb/ETRI-denoising_2/LD_TE/LD_TE_SKBR_4.png', '/media/lab407/4tb/ETRI-denoising_2/LD_TE/LD_TE_SKER_1.png', '/media/lab407/4tb/ETRI-denoising_2/LD_TE/LD_TE_ADCT_4.png', '/media/lab407/4tb/ETRI-denoising_2/LD_TE/LD_TE_ADCT_3.png', '/media/lab407/4tb/ETRI-denoising_2/LD_TE/LD_TE_SKER_4.png', '/media/lab407/4tb/ETRI-denoising_2/LD_TE/LD_TE_SKBR_1.png', '/media/lab407/4tb/ETRI-denoising_2/LD_TE/LD_TE_MECT_3.png', '/media/lab407/4tb/ETRI-denoising_2/LD_TE/LD_TE_SKBR_3.png', '/media/lab407/4tb/ETRI-denoising_2/LD_TE/LD_TE_SKER_3.png']\n",
      "['/media/lab407/4tb/ETRI-denoising_2/HD_TE/HD_TE_ADCT_2.png', '/media/lab407/4tb/ETRI-denoising_2/HD_TE/HD_TE_SKER_3.png', '/media/lab407/4tb/ETRI-denoising_2/HD_TE/HD_TE_SKBR_1.png', '/media/lab407/4tb/ETRI-denoising_2/HD_TE/HD_TE_SKER_4.png', '/media/lab407/4tb/ETRI-denoising_2/HD_TE/HD_TE_ADCT_1.png', '/media/lab407/4tb/ETRI-denoising_2/HD_TE/HD_TE_MECT_4.png', '/media/lab407/4tb/ETRI-denoising_2/HD_TE/HD_TE_SKBR_2.png', '/media/lab407/4tb/ETRI-denoising_2/HD_TE/HD_TE_MECT_1.png', '/media/lab407/4tb/ETRI-denoising_2/HD_TE/HD_TE_SKER_2.png', '/media/lab407/4tb/ETRI-denoising_2/HD_TE/HD_TE_ADCT_3.png', '/media/lab407/4tb/ETRI-denoising_2/HD_TE/HD_TE_SKBR_3.png', '/media/lab407/4tb/ETRI-denoising_2/HD_TE/HD_TE_MECT_2.png', '/media/lab407/4tb/ETRI-denoising_2/HD_TE/HD_TE_ADCT_4.png', '/media/lab407/4tb/ETRI-denoising_2/HD_TE/HD_TE_SKER_1.png', '/media/lab407/4tb/ETRI-denoising_2/HD_TE/HD_TE_SKBR_4.png', '/media/lab407/4tb/ETRI-denoising_2/HD_TE/HD_TE_MECT_3.png']\n"
     ]
    }
   ],
   "source": [
    "for p1 in path_tif_high_dose:\n",
    "    tmp_path_full_dose = glob(p1 + '/*.png')            \n",
    "    path_high_dose_train.extend(tmp_path_full_dose)\n",
    "for p2 in path_tif_low_dose:     \n",
    "    tmp_path_low_dose = glob(p2 + '/*.png')\n",
    "    path_low_dose_train.extend(tmp_path_low_dose) \n",
    "print(sorted(path_low_dose_train))\n",
    "print(sorted(path_high_dose_train))"
   ]
  },
  {
   "cell_type": "code",
   "execution_count": null,
   "metadata": {},
   "outputs": [],
   "source": []
  }
 ],
 "metadata": {
  "kernelspec": {
   "display_name": "Python 3",
   "language": "python",
   "name": "python3"
  },
  "language_info": {
   "codemirror_mode": {
    "name": "ipython",
    "version": 3
   },
   "file_extension": ".py",
   "mimetype": "text/x-python",
   "name": "python",
   "nbconvert_exporter": "python",
   "pygments_lexer": "ipython3",
   "version": "3.6.12"
  }
 },
 "nbformat": 4,
 "nbformat_minor": 4
}

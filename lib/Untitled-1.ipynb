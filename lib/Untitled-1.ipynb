{
 "cells": [
  {
   "cell_type": "code",
   "execution_count": 2,
   "metadata": {},
   "outputs": [
    {
     "name": "stdout",
     "output_type": "stream",
     "text": [
      "torch.Size([1024, 8])\n",
      "torch.Size([1024, 8]) torch.Size([1, 8])\n",
      "torch.Size([1024, 2, 1])\n"
     ]
    }
   ],
   "source": [
    "import matplotlib.pyplot as plt\n",
    "import torch\n",
    "import numpy as np\n",
    "\n",
    "import numpy as np\n",
    "import torch\n",
    "import torch.nn as nn\n",
    "\n",
    "\n",
    "class ReLUKANLayer(nn.Module):\n",
    "    def __init__(self, input_size: int, g: int, k: int, output_size: int, train_ab: bool = True):\n",
    "        super().__init__()\n",
    "        self.g, self.k, self.r = g, k, 4*g*g / ((k+1)*(k+1))\n",
    "        self.input_size, self.output_size = input_size, output_size\n",
    "        phase_low = np.arange(-k, g) / g\n",
    "        phase_height = phase_low + (k+1) / g\n",
    "        self.phase_low = nn.Parameter(torch.Tensor(np.array([phase_low for i in range(input_size)])),\n",
    "                                      requires_grad=train_ab)\n",
    "        self.phase_height = nn.Parameter(torch.Tensor(np.array([phase_height for i in range(input_size)])),\n",
    "                                         requires_grad=train_ab)\n",
    "        self.equal_size_conv = nn.Conv2d(1, output_size, (g+k, input_size))\n",
    "    def forward(self, x):\n",
    "        print(x.shape, self.phase_low.shape)\n",
    "        x1 = torch.relu(x - self.phase_low)\n",
    "        x2 = torch.relu(self.phase_height - x)\n",
    "        x = x1 * x2 * self.r\n",
    "        x = x * x\n",
    "        x = x.reshape((len(x), 1, self.g + self.k, self.input_size))\n",
    "        x = self.equal_size_conv(x)\n",
    "        x = x.reshape((len(x), self.output_size, 1))\n",
    "        return x\n",
    "\n",
    "\n",
    "class ReLUKAN(nn.Module):\n",
    "    def __init__(self, width, grid, k):\n",
    "        super().__init__()\n",
    "        self.width = width\n",
    "        self.grid = grid\n",
    "        self.k = k\n",
    "        self.rk_layers = []\n",
    "        for i in range(len(width) - 1):\n",
    "            self.rk_layers.append(ReLUKANLayer(width[i], grid, k, width[i+1]))\n",
    "            # if len(width) - i > 2:\n",
    "            #     self.rk_layers.append()\n",
    "        self.rk_layers = nn.ModuleList(self.rk_layers)\n",
    "\n",
    "    def forward(self, x):\n",
    "        for rk_layer in self.rk_layers:\n",
    "            x = rk_layer(x)\n",
    "        # x = x.reshape((len(x), self.width[-1]))\n",
    "        return x\n",
    "\n",
    "    \n",
    "x = torch.Tensor([np.arange(0, 1024) / 1024]).repeat(8,1).T\n",
    "shape = x.shape[:-1]\n",
    "x.view(*shape, -1)\n",
    "y = torch.sin(5*torch.pi*x)\n",
    "print(x.shape)\n",
    "rk = ReLUKANLayer(1, 5, 3, 2)\n",
    "y = rk(x)\n",
    "print(y.shape)"
   ]
  },
  {
   "cell_type": "code",
   "execution_count": 6,
   "metadata": {},
   "outputs": [
    {
     "name": "stdout",
     "output_type": "stream",
     "text": [
      "torch.Size([100, 100]) torch.Size([100, 100, 100, 2])\n"
     ]
    }
   ],
   "source": [
    "    def rbf_kernel(X, Y, gamma=-1, ad=1):\n",
    "        # X and Y should be tensors with shape (batch_size, num_channels, height, width)\n",
    "        # gamma is a hyperparameter controlling the width of the RBF kernel\n",
    "\n",
    "        # Reshape X and Y to have shape (batch_size, num_channels*height*width)\n",
    "        X_flat = X.view(X.size(0), -1)\n",
    "        Y_flat = Y.view(Y.size(0), -1)\n",
    "\n",
    "        # Compute the pairwise squared Euclidean distances between the samples\n",
    "        with torch.cuda.amp.autocast():\n",
    "            dists = torch.cdist(X_flat, Y_flat, p=2)**2\n",
    "        print(dists.shape)\n",
    "        if gamma <0: # use median trick\n",
    "            gamma = torch.median(dists)\n",
    "            gamma = torch.sqrt(0.5 * gamma / np.log(dists.size(0) + 1))\n",
    "            gamma = 1 / (2 * gamma**2)\n",
    "            # print(gamma)\n",
    "\n",
    "        gamma = gamma * ad \n",
    "        # gamma = torch.max(gamma, torch.tensor(1e-3))\n",
    "        # Compute the RBF kernel using the squared distances and gamma\n",
    "        K = torch.exp(-gamma * dists)\n",
    "        dK = -2 * gamma * K.unsqueeze(-1).unsqueeze(-1).unsqueeze(-1) * (X.unsqueeze(1) - Y.unsqueeze(0))\n",
    "        dK_dX = torch.sum(dK, dim=1)\n",
    "\n",
    "        return K, dK_dX\n",
    "    \n",
    "a = torch.ones(100,2)\n",
    "b = torch.ones(100,2)\n",
    "K , dk = rbf_kernel(a,b)\n",
    "print(K.shape, dk.shape)"
   ]
  }
 ],
 "metadata": {
  "kernelspec": {
   "display_name": "bridge_test",
   "language": "python",
   "name": "python3"
  },
  "language_info": {
   "codemirror_mode": {
    "name": "ipython",
    "version": 3
   },
   "file_extension": ".py",
   "mimetype": "text/x-python",
   "name": "python",
   "nbconvert_exporter": "python",
   "pygments_lexer": "ipython3",
   "version": "3.8.5"
  }
 },
 "nbformat": 4,
 "nbformat_minor": 2
}
